{
 "cells": [
  {
   "cell_type": "code",
   "execution_count": 160,
   "metadata": {},
   "outputs": [],
   "source": [
    "import pandas as pd\n",
    "import matplotlib.pyplot as plt"
   ]
  },
  {
   "cell_type": "code",
   "execution_count": 161,
   "metadata": {},
   "outputs": [],
   "source": [
    "df = pd.read_excel(r'C:\\Users\\Dess\\Desktop\\Power BI\\Assignm1.xlsx')"
   ]
  },
  {
   "cell_type": "code",
   "execution_count": 162,
   "metadata": {},
   "outputs": [
    {
     "name": "stdout",
     "output_type": "stream",
     "text": [
      "<class 'pandas.core.frame.DataFrame'>\n",
      "RangeIndex: 143 entries, 0 to 142\n",
      "Data columns (total 4 columns):\n",
      " #   Column   Non-Null Count  Dtype \n",
      "---  ------   --------------  ----- \n",
      " 0   Номер    143 non-null    int64 \n",
      " 1   ФИО      143 non-null    object\n",
      " 2   Отрасль  143 non-null    object\n",
      " 3   Тест     143 non-null    object\n",
      "dtypes: int64(1), object(3)\n",
      "memory usage: 4.6+ KB\n"
     ]
    }
   ],
   "source": [
    "df.info()"
   ]
  },
  {
   "cell_type": "code",
   "execution_count": 163,
   "metadata": {},
   "outputs": [
    {
     "data": {
      "text/html": [
       "<div>\n",
       "<style scoped>\n",
       "    .dataframe tbody tr th:only-of-type {\n",
       "        vertical-align: middle;\n",
       "    }\n",
       "\n",
       "    .dataframe tbody tr th {\n",
       "        vertical-align: top;\n",
       "    }\n",
       "\n",
       "    .dataframe thead th {\n",
       "        text-align: right;\n",
       "    }\n",
       "</style>\n",
       "<table border=\"1\" class=\"dataframe\">\n",
       "  <thead>\n",
       "    <tr style=\"text-align: right;\">\n",
       "      <th></th>\n",
       "      <th>Номер</th>\n",
       "      <th>ФИО</th>\n",
       "      <th>Отрасль</th>\n",
       "      <th>Тест</th>\n",
       "    </tr>\n",
       "  </thead>\n",
       "  <tbody>\n",
       "    <tr>\n",
       "      <th>0</th>\n",
       "      <td>1</td>\n",
       "      <td>Соболева Ирина</td>\n",
       "      <td>ИТ</td>\n",
       "      <td>Моё слово</td>\n",
       "    </tr>\n",
       "    <tr>\n",
       "      <th>1</th>\n",
       "      <td>2</td>\n",
       "      <td>Исакова Дария</td>\n",
       "      <td>ИТ</td>\n",
       "      <td>Моё слово</td>\n",
       "    </tr>\n",
       "    <tr>\n",
       "      <th>2</th>\n",
       "      <td>3</td>\n",
       "      <td>Иванова Эвелина</td>\n",
       "      <td>Финансы</td>\n",
       "      <td>Моё слово</td>\n",
       "    </tr>\n",
       "    <tr>\n",
       "      <th>3</th>\n",
       "      <td>4</td>\n",
       "      <td>Потапов Ян</td>\n",
       "      <td>Наука</td>\n",
       "      <td>Моё слово</td>\n",
       "    </tr>\n",
       "    <tr>\n",
       "      <th>4</th>\n",
       "      <td>5</td>\n",
       "      <td>Шашкова Ирма</td>\n",
       "      <td>Металлургия</td>\n",
       "      <td>Моё слово</td>\n",
       "    </tr>\n",
       "  </tbody>\n",
       "</table>\n",
       "</div>"
      ],
      "text/plain": [
       "   Номер              ФИО      Отрасль       Тест\n",
       "0      1   Соболева Ирина           ИТ  Моё слово\n",
       "1      2    Исакова Дария           ИТ  Моё слово\n",
       "2      3  Иванова Эвелина      Финансы  Моё слово\n",
       "3      4       Потапов Ян        Наука  Моё слово\n",
       "4      5     Шашкова Ирма  Металлургия  Моё слово"
      ]
     },
     "execution_count": 163,
     "metadata": {},
     "output_type": "execute_result"
    }
   ],
   "source": [
    "df.head()"
   ]
  },
  {
   "cell_type": "code",
   "execution_count": 164,
   "metadata": {},
   "outputs": [
    {
     "data": {
      "text/plain": [
       "Номер  ФИО                 Отрасль               Тест     \n",
       "1      Соболева Ирина      ИТ                    Моё слово    1\n",
       "99     Евдокимова Марьяна  Общественное питание  Моё слово    1\n",
       "93     Михеева Ада         Общественное питание  Моё слово    1\n",
       "94     Егоров Мирослав     Металлургия           Моё слово    1\n",
       "95     Виноградова Силика  Финансы               Моё слово    1\n",
       "                                                             ..\n",
       "49     Родионов Станислав  Здравоохранение       Моё слово    1\n",
       "50     Авдеев Вольдемар    Здравоохранение       Моё слово    1\n",
       "51     Лыткин Любовь       Здравоохранение       Моё слово    1\n",
       "52     Крюкова Алевтина    ИТ                    Моё слово    1\n",
       "143    Седов Станислав     Наука                 Моё слово    1\n",
       "Length: 143, dtype: int64"
      ]
     },
     "execution_count": 164,
     "metadata": {},
     "output_type": "execute_result"
    }
   ],
   "source": [
    "df.value_counts()"
   ]
  },
  {
   "cell_type": "code",
   "execution_count": 165,
   "metadata": {},
   "outputs": [],
   "source": [
    "d = df.groupby('Отрасль').count().reset_index()\n",
    "d = d.iloc[:, [0,1]].sort_values(by='Номер',ascending=[False]) # select two colums"
   ]
  },
  {
   "cell_type": "code",
   "execution_count": 166,
   "metadata": {},
   "outputs": [
    {
     "data": {
      "text/plain": [
       "Text(0.5, 1.0, 'Распределение зарплат по отраслям')"
      ]
     },
     "execution_count": 166,
     "metadata": {},
     "output_type": "execute_result"
    },
    {
     "data": {
      "image/png": "[encoded data removed]",
      "text/plain": [
       "<Figure size 1440x720 with 1 Axes>"
      ]
     },
     "metadata": {
      "needs_background": "light"
     },
     "output_type": "display_data"
    }
   ],
   "source": [
    "h = plt.figure(figsize=(20,10))\n",
    "plt.barh(d['Отрасль'], d['Номер'])\n",
    "plt.title('Распределение зарплат по отраслям')\n"
   ]
  },
  {
   "cell_type": "code",
   "execution_count": 167,
   "metadata": {},
   "outputs": [],
   "source": [
    "incomes = pd.read_excel(r'C:\\Users\\Dess\\Desktop\\Power BI\\Assignm2.xlsx')"
   ]
  },
  {
   "cell_type": "code",
   "execution_count": 168,
   "metadata": {},
   "outputs": [
    {
     "data": {
      "text/html": [
       "<div>\n",
       "<style scoped>\n",
       "    .dataframe tbody tr th:only-of-type {\n",
       "        vertical-align: middle;\n",
       "    }\n",
       "\n",
       "    .dataframe tbody tr th {\n",
       "        vertical-align: top;\n",
       "    }\n",
       "\n",
       "    .dataframe thead th {\n",
       "        text-align: right;\n",
       "    }\n",
       "</style>\n",
       "<table border=\"1\" class=\"dataframe\">\n",
       "  <thead>\n",
       "    <tr style=\"text-align: right;\">\n",
       "      <th></th>\n",
       "      <th>ФИО</th>\n",
       "      <th>Annual Income, mln RUR</th>\n",
       "    </tr>\n",
       "  </thead>\n",
       "  <tbody>\n",
       "    <tr>\n",
       "      <th>0</th>\n",
       "      <td>Шашков Вальтер</td>\n",
       "      <td>6</td>\n",
       "    </tr>\n",
       "    <tr>\n",
       "      <th>1</th>\n",
       "      <td>Самсонов Прохор</td>\n",
       "      <td>11</td>\n",
       "    </tr>\n",
       "    <tr>\n",
       "      <th>2</th>\n",
       "      <td>Некрасова Татьяна</td>\n",
       "      <td>6</td>\n",
       "    </tr>\n",
       "    <tr>\n",
       "      <th>3</th>\n",
       "      <td>Копылова Эллина</td>\n",
       "      <td>6</td>\n",
       "    </tr>\n",
       "    <tr>\n",
       "      <th>4</th>\n",
       "      <td>Зуев Осип</td>\n",
       "      <td>6</td>\n",
       "    </tr>\n",
       "    <tr>\n",
       "      <th>...</th>\n",
       "      <td>...</td>\n",
       "      <td>...</td>\n",
       "    </tr>\n",
       "    <tr>\n",
       "      <th>138</th>\n",
       "      <td>Никифоров Ермак</td>\n",
       "      <td>9</td>\n",
       "    </tr>\n",
       "    <tr>\n",
       "      <th>139</th>\n",
       "      <td>Савин Натан</td>\n",
       "      <td>19</td>\n",
       "    </tr>\n",
       "    <tr>\n",
       "      <th>140</th>\n",
       "      <td>Архипов Станислав</td>\n",
       "      <td>23</td>\n",
       "    </tr>\n",
       "    <tr>\n",
       "      <th>141</th>\n",
       "      <td>Струна Марина</td>\n",
       "      <td>20</td>\n",
       "    </tr>\n",
       "    <tr>\n",
       "      <th>142</th>\n",
       "      <td>Седов Станислав</td>\n",
       "      <td>17</td>\n",
       "    </tr>\n",
       "  </tbody>\n",
       "</table>\n",
       "<p>143 rows × 2 columns</p>\n",
       "</div>"
      ],
      "text/plain": [
       "                    ФИО  Annual Income, mln RUR\n",
       "0        Шашков Вальтер                       6\n",
       "1       Самсонов Прохор                      11\n",
       "2     Некрасова Татьяна                       6\n",
       "3       Копылова Эллина                       6\n",
       "4             Зуев Осип                       6\n",
       "..                  ...                     ...\n",
       "138     Никифоров Ермак                       9\n",
       "139         Савин Натан                      19\n",
       "140  Архипов Станислав                       23\n",
       "141      Струна Марина                       20\n",
       "142     Седов Станислав                      17\n",
       "\n",
       "[143 rows x 2 columns]"
      ]
     },
     "execution_count": 168,
     "metadata": {},
     "output_type": "execute_result"
    }
   ],
   "source": [
    "incomes = incomes.rename({'Name': 'ФИО'}, axis=1)\n",
    "incomes"
   ]
  },
  {
   "cell_type": "code",
   "execution_count": 169,
   "metadata": {},
   "outputs": [],
   "source": [
    "table = pd.merge(incomes, df, how= 'inner', left_on=['ФИО'], right_on=['ФИО'])"
   ]
  },
  {
   "cell_type": "code",
   "execution_count": 170,
   "metadata": {},
   "outputs": [],
   "source": [
    "table = table[['ФИО', 'Annual Income, mln RUR', 'Отрасль']]\n",
    "table = table.groupby('Отрасль').mean().reset_index()"
   ]
  },
  {
   "cell_type": "code",
   "execution_count": 174,
   "metadata": {},
   "outputs": [
    {
     "data": {
      "text/plain": [
       "Text(0.5, 1.0, 'Количество денег на отрасль')"
      ]
     },
     "execution_count": 174,
     "metadata": {},
     "output_type": "execute_result"
    },
    {
     "data": {
      "image/png": "[encoded data removed]",
      "text/plain": [
       "<Figure size 1440x720 with 1 Axes>"
      ]
     },
     "metadata": {
      "needs_background": "light"
     },
     "output_type": "display_data"
    }
   ],
   "source": [
    "table = table.sort_values(['Annual Income, mln RUR'])\n",
    "h = plt.figure(figsize=(20,10))\n",
    "plt.bar(table['Отрасль'], table['Annual Income, mln RUR'])\n",
    "plt.title('Количество денег на отрасль')"
   ]
  },
  {
   "cell_type": "code",
   "execution_count": 118,
   "metadata": {},
   "outputs": [
    {
     "data": {
      "text/html": [
       "<div>\n",
       "<style scoped>\n",
       "    .dataframe tbody tr th:only-of-type {\n",
       "        vertical-align: middle;\n",
       "    }\n",
       "\n",
       "    .dataframe tbody tr th {\n",
       "        vertical-align: top;\n",
       "    }\n",
       "\n",
       "    .dataframe thead th {\n",
       "        text-align: right;\n",
       "    }\n",
       "</style>\n",
       "<table border=\"1\" class=\"dataframe\">\n",
       "  <thead>\n",
       "    <tr style=\"text-align: right;\">\n",
       "      <th></th>\n",
       "      <th>Номер</th>\n",
       "      <th>ФИО</th>\n",
       "      <th>Отрасль</th>\n",
       "      <th>Тест</th>\n",
       "    </tr>\n",
       "  </thead>\n",
       "  <tbody>\n",
       "    <tr>\n",
       "      <th>0</th>\n",
       "      <td>1</td>\n",
       "      <td>Соболева Ирина</td>\n",
       "      <td>ИТ</td>\n",
       "      <td>Моё слово</td>\n",
       "    </tr>\n",
       "    <tr>\n",
       "      <th>1</th>\n",
       "      <td>2</td>\n",
       "      <td>Исакова Дария</td>\n",
       "      <td>ИТ</td>\n",
       "      <td>Моё слово</td>\n",
       "    </tr>\n",
       "    <tr>\n",
       "      <th>2</th>\n",
       "      <td>3</td>\n",
       "      <td>Иванова Эвелина</td>\n",
       "      <td>Финансы</td>\n",
       "      <td>Моё слово</td>\n",
       "    </tr>\n",
       "    <tr>\n",
       "      <th>3</th>\n",
       "      <td>4</td>\n",
       "      <td>Потапов Ян</td>\n",
       "      <td>Наука</td>\n",
       "      <td>Моё слово</td>\n",
       "    </tr>\n",
       "    <tr>\n",
       "      <th>4</th>\n",
       "      <td>5</td>\n",
       "      <td>Шашкова Ирма</td>\n",
       "      <td>Металлургия</td>\n",
       "      <td>Моё слово</td>\n",
       "    </tr>\n",
       "    <tr>\n",
       "      <th>...</th>\n",
       "      <td>...</td>\n",
       "      <td>...</td>\n",
       "      <td>...</td>\n",
       "      <td>...</td>\n",
       "    </tr>\n",
       "    <tr>\n",
       "      <th>138</th>\n",
       "      <td>139</td>\n",
       "      <td>Зайцева Ираида</td>\n",
       "      <td>Здравоохранение</td>\n",
       "      <td>Моё слово</td>\n",
       "    </tr>\n",
       "    <tr>\n",
       "      <th>139</th>\n",
       "      <td>140</td>\n",
       "      <td>Молчанов Мартин</td>\n",
       "      <td>Здравоохранение</td>\n",
       "      <td>Моё слово</td>\n",
       "    </tr>\n",
       "    <tr>\n",
       "      <th>140</th>\n",
       "      <td>141</td>\n",
       "      <td>Архипов Станислав</td>\n",
       "      <td>Наука</td>\n",
       "      <td>Моё слово</td>\n",
       "    </tr>\n",
       "    <tr>\n",
       "      <th>141</th>\n",
       "      <td>142</td>\n",
       "      <td>Струна Марина</td>\n",
       "      <td>Наука</td>\n",
       "      <td>Моё слово</td>\n",
       "    </tr>\n",
       "    <tr>\n",
       "      <th>142</th>\n",
       "      <td>143</td>\n",
       "      <td>Седов Станислав</td>\n",
       "      <td>Наука</td>\n",
       "      <td>Моё слово</td>\n",
       "    </tr>\n",
       "  </tbody>\n",
       "</table>\n",
       "<p>143 rows × 4 columns</p>\n",
       "</div>"
      ],
      "text/plain": [
       "     Номер                 ФИО          Отрасль       Тест\n",
       "0        1      Соболева Ирина               ИТ  Моё слово\n",
       "1        2       Исакова Дария               ИТ  Моё слово\n",
       "2        3     Иванова Эвелина          Финансы  Моё слово\n",
       "3        4          Потапов Ян            Наука  Моё слово\n",
       "4        5        Шашкова Ирма      Металлургия  Моё слово\n",
       "..     ...                 ...              ...        ...\n",
       "138    139      Зайцева Ираида  Здравоохранение  Моё слово\n",
       "139    140     Молчанов Мартин  Здравоохранение  Моё слово\n",
       "140    141  Архипов Станислав             Наука  Моё слово\n",
       "141    142      Струна Марина             Наука  Моё слово\n",
       "142    143     Седов Станислав            Наука  Моё слово\n",
       "\n",
       "[143 rows x 4 columns]"
      ]
     },
     "execution_count": 118,
     "metadata": {},
     "output_type": "execute_result"
    }
   ],
   "source": [
    "df"
   ]
  },
  {
   "cell_type": "code",
   "execution_count": 119,
   "metadata": {},
   "outputs": [
    {
     "data": {
      "text/html": [
       "<div>\n",
       "<style scoped>\n",
       "    .dataframe tbody tr th:only-of-type {\n",
       "        vertical-align: middle;\n",
       "    }\n",
       "\n",
       "    .dataframe tbody tr th {\n",
       "        vertical-align: top;\n",
       "    }\n",
       "\n",
       "    .dataframe thead th {\n",
       "        text-align: right;\n",
       "    }\n",
       "</style>\n",
       "<table border=\"1\" class=\"dataframe\">\n",
       "  <thead>\n",
       "    <tr style=\"text-align: right;\">\n",
       "      <th></th>\n",
       "      <th>Номер</th>\n",
       "      <th>Отрасль</th>\n",
       "      <th>Тест</th>\n",
       "    </tr>\n",
       "    <tr>\n",
       "      <th>ФИО</th>\n",
       "      <th></th>\n",
       "      <th></th>\n",
       "      <th></th>\n",
       "    </tr>\n",
       "  </thead>\n",
       "  <tbody>\n",
       "    <tr>\n",
       "      <th>Соболева Ирина</th>\n",
       "      <td>1</td>\n",
       "      <td>ИТ</td>\n",
       "      <td>Моё слово</td>\n",
       "    </tr>\n",
       "    <tr>\n",
       "      <th>Исакова Дария</th>\n",
       "      <td>2</td>\n",
       "      <td>ИТ</td>\n",
       "      <td>Моё слово</td>\n",
       "    </tr>\n",
       "    <tr>\n",
       "      <th>Иванова Эвелина</th>\n",
       "      <td>3</td>\n",
       "      <td>Финансы</td>\n",
       "      <td>Моё слово</td>\n",
       "    </tr>\n",
       "    <tr>\n",
       "      <th>Потапов Ян</th>\n",
       "      <td>4</td>\n",
       "      <td>Наука</td>\n",
       "      <td>Моё слово</td>\n",
       "    </tr>\n",
       "    <tr>\n",
       "      <th>Шашкова Ирма</th>\n",
       "      <td>5</td>\n",
       "      <td>Металлургия</td>\n",
       "      <td>Моё слово</td>\n",
       "    </tr>\n",
       "    <tr>\n",
       "      <th>...</th>\n",
       "      <td>...</td>\n",
       "      <td>...</td>\n",
       "      <td>...</td>\n",
       "    </tr>\n",
       "    <tr>\n",
       "      <th>Зайцева Ираида</th>\n",
       "      <td>139</td>\n",
       "      <td>Здравоохранение</td>\n",
       "      <td>Моё слово</td>\n",
       "    </tr>\n",
       "    <tr>\n",
       "      <th>Молчанов Мартин</th>\n",
       "      <td>140</td>\n",
       "      <td>Здравоохранение</td>\n",
       "      <td>Моё слово</td>\n",
       "    </tr>\n",
       "    <tr>\n",
       "      <th>Архипов Станислав</th>\n",
       "      <td>141</td>\n",
       "      <td>Наука</td>\n",
       "      <td>Моё слово</td>\n",
       "    </tr>\n",
       "    <tr>\n",
       "      <th>Струна Марина</th>\n",
       "      <td>142</td>\n",
       "      <td>Наука</td>\n",
       "      <td>Моё слово</td>\n",
       "    </tr>\n",
       "    <tr>\n",
       "      <th>Седов Станислав</th>\n",
       "      <td>143</td>\n",
       "      <td>Наука</td>\n",
       "      <td>Моё слово</td>\n",
       "    </tr>\n",
       "  </tbody>\n",
       "</table>\n",
       "<p>143 rows × 3 columns</p>\n",
       "</div>"
      ],
      "text/plain": [
       "                    Номер          Отрасль       Тест\n",
       "ФИО                                                  \n",
       "Соболева Ирина          1               ИТ  Моё слово\n",
       "Исакова Дария           2               ИТ  Моё слово\n",
       "Иванова Эвелина         3          Финансы  Моё слово\n",
       "Потапов Ян              4            Наука  Моё слово\n",
       "Шашкова Ирма            5      Металлургия  Моё слово\n",
       "...                   ...              ...        ...\n",
       "Зайцева Ираида        139  Здравоохранение  Моё слово\n",
       "Молчанов Мартин       140  Здравоохранение  Моё слово\n",
       "Архипов Станислав     141            Наука  Моё слово\n",
       "Струна Марина         142            Наука  Моё слово\n",
       "Седов Станислав       143            Наука  Моё слово\n",
       "\n",
       "[143 rows x 3 columns]"
      ]
     },
     "execution_count": 119,
     "metadata": {},
     "output_type": "execute_result"
    }
   ],
   "source": [
    "df1 = df.set_index('ФИО')\n",
    "df1"
   ]
  },
  {
   "cell_type": "code",
   "execution_count": 121,
   "metadata": {},
   "outputs": [
    {
     "data": {
      "text/html": [
       "<div>\n",
       "<style scoped>\n",
       "    .dataframe tbody tr th:only-of-type {\n",
       "        vertical-align: middle;\n",
       "    }\n",
       "\n",
       "    .dataframe tbody tr th {\n",
       "        vertical-align: top;\n",
       "    }\n",
       "\n",
       "    .dataframe thead th {\n",
       "        text-align: right;\n",
       "    }\n",
       "</style>\n",
       "<table border=\"1\" class=\"dataframe\">\n",
       "  <thead>\n",
       "    <tr style=\"text-align: right;\">\n",
       "      <th></th>\n",
       "      <th>ФИО</th>\n",
       "      <th>Annual Income, mln RUR</th>\n",
       "    </tr>\n",
       "  </thead>\n",
       "  <tbody>\n",
       "    <tr>\n",
       "      <th>0</th>\n",
       "      <td>Шашков Вальтер</td>\n",
       "      <td>6</td>\n",
       "    </tr>\n",
       "    <tr>\n",
       "      <th>1</th>\n",
       "      <td>Самсонов Прохор</td>\n",
       "      <td>11</td>\n",
       "    </tr>\n",
       "    <tr>\n",
       "      <th>2</th>\n",
       "      <td>Некрасова Татьяна</td>\n",
       "      <td>6</td>\n",
       "    </tr>\n",
       "    <tr>\n",
       "      <th>3</th>\n",
       "      <td>Копылова Эллина</td>\n",
       "      <td>6</td>\n",
       "    </tr>\n",
       "    <tr>\n",
       "      <th>4</th>\n",
       "      <td>Зуев Осип</td>\n",
       "      <td>6</td>\n",
       "    </tr>\n",
       "    <tr>\n",
       "      <th>...</th>\n",
       "      <td>...</td>\n",
       "      <td>...</td>\n",
       "    </tr>\n",
       "    <tr>\n",
       "      <th>138</th>\n",
       "      <td>Никифоров Ермак</td>\n",
       "      <td>9</td>\n",
       "    </tr>\n",
       "    <tr>\n",
       "      <th>139</th>\n",
       "      <td>Савин Натан</td>\n",
       "      <td>19</td>\n",
       "    </tr>\n",
       "    <tr>\n",
       "      <th>140</th>\n",
       "      <td>Архипов Станислав</td>\n",
       "      <td>23</td>\n",
       "    </tr>\n",
       "    <tr>\n",
       "      <th>141</th>\n",
       "      <td>Струна Марина</td>\n",
       "      <td>20</td>\n",
       "    </tr>\n",
       "    <tr>\n",
       "      <th>142</th>\n",
       "      <td>Седов Станислав</td>\n",
       "      <td>17</td>\n",
       "    </tr>\n",
       "  </tbody>\n",
       "</table>\n",
       "<p>143 rows × 2 columns</p>\n",
       "</div>"
      ],
      "text/plain": [
       "                    ФИО  Annual Income, mln RUR\n",
       "0        Шашков Вальтер                       6\n",
       "1       Самсонов Прохор                      11\n",
       "2     Некрасова Татьяна                       6\n",
       "3       Копылова Эллина                       6\n",
       "4             Зуев Осип                       6\n",
       "..                  ...                     ...\n",
       "138     Никифоров Ермак                       9\n",
       "139         Савин Натан                      19\n",
       "140  Архипов Станислав                       23\n",
       "141      Струна Марина                       20\n",
       "142     Седов Станислав                      17\n",
       "\n",
       "[143 rows x 2 columns]"
      ]
     },
     "execution_count": 121,
     "metadata": {},
     "output_type": "execute_result"
    }
   ],
   "source": [
    "incomes1 = incomes.set_index('ФИО')\n",
    "incomes"
   ]
  },
  {
   "cell_type": "code",
   "execution_count": 127,
   "metadata": {},
   "outputs": [],
   "source": [
    "com = df1.join(incomes1).reset_index()"
   ]
  },
  {
   "cell_type": "code",
   "execution_count": 138,
   "metadata": {},
   "outputs": [],
   "source": [
    "b = com.sort_values(by=['Отрасль', 'Annual Income, mln RUR'])"
   ]
  },
  {
   "cell_type": "code",
   "execution_count": 148,
   "metadata": {},
   "outputs": [
    {
     "data": {
      "text/html": [
       "<div>\n",
       "<style scoped>\n",
       "    .dataframe tbody tr th:only-of-type {\n",
       "        vertical-align: middle;\n",
       "    }\n",
       "\n",
       "    .dataframe tbody tr th {\n",
       "        vertical-align: top;\n",
       "    }\n",
       "\n",
       "    .dataframe thead th {\n",
       "        text-align: right;\n",
       "    }\n",
       "</style>\n",
       "<table border=\"1\" class=\"dataframe\">\n",
       "  <thead>\n",
       "    <tr style=\"text-align: right;\">\n",
       "      <th></th>\n",
       "      <th>Отрасль</th>\n",
       "      <th>Номер</th>\n",
       "      <th>Annual Income, mln RUR</th>\n",
       "    </tr>\n",
       "  </thead>\n",
       "  <tbody>\n",
       "    <tr>\n",
       "      <th>2</th>\n",
       "      <td>Металлургия</td>\n",
       "      <td>66.285714</td>\n",
       "      <td>10.714286</td>\n",
       "    </tr>\n",
       "    <tr>\n",
       "      <th>7</th>\n",
       "      <td>Торговля</td>\n",
       "      <td>58.833333</td>\n",
       "      <td>11.500000</td>\n",
       "    </tr>\n",
       "    <tr>\n",
       "      <th>6</th>\n",
       "      <td>Связь</td>\n",
       "      <td>71.714286</td>\n",
       "      <td>11.857143</td>\n",
       "    </tr>\n",
       "    <tr>\n",
       "      <th>4</th>\n",
       "      <td>Нефтегаз</td>\n",
       "      <td>68.384615</td>\n",
       "      <td>11.923077</td>\n",
       "    </tr>\n",
       "    <tr>\n",
       "      <th>8</th>\n",
       "      <td>Финансы</td>\n",
       "      <td>78.526316</td>\n",
       "      <td>12.421053</td>\n",
       "    </tr>\n",
       "    <tr>\n",
       "      <th>0</th>\n",
       "      <td>Здравоохранение</td>\n",
       "      <td>70.777778</td>\n",
       "      <td>12.555556</td>\n",
       "    </tr>\n",
       "    <tr>\n",
       "      <th>3</th>\n",
       "      <td>Наука</td>\n",
       "      <td>86.866667</td>\n",
       "      <td>12.866667</td>\n",
       "    </tr>\n",
       "    <tr>\n",
       "      <th>1</th>\n",
       "      <td>ИТ</td>\n",
       "      <td>65.461538</td>\n",
       "      <td>13.102564</td>\n",
       "    </tr>\n",
       "    <tr>\n",
       "      <th>5</th>\n",
       "      <td>Общественное питание</td>\n",
       "      <td>82.900000</td>\n",
       "      <td>13.200000</td>\n",
       "    </tr>\n",
       "  </tbody>\n",
       "</table>\n",
       "</div>"
      ],
      "text/plain": [
       "                Отрасль      Номер  Annual Income, mln RUR\n",
       "2           Металлургия  66.285714               10.714286\n",
       "7              Торговля  58.833333               11.500000\n",
       "6                 Связь  71.714286               11.857143\n",
       "4              Нефтегаз  68.384615               11.923077\n",
       "8               Финансы  78.526316               12.421053\n",
       "0       Здравоохранение  70.777778               12.555556\n",
       "3                 Наука  86.866667               12.866667\n",
       "1                    ИТ  65.461538               13.102564\n",
       "5  Общественное питание  82.900000               13.200000"
      ]
     },
     "execution_count": 148,
     "metadata": {},
     "output_type": "execute_result"
    }
   ],
   "source": [
    "an_inc_mean = b.groupby('Отрасль').mean().reset_index()\n",
    "an_inc_mean = an_inc_mean.sort_values('Annual Income, mln RUR')\n",
    "an_inc_mean"
   ]
  },
  {
   "cell_type": "code",
   "execution_count": 150,
   "metadata": {},
   "outputs": [
    {
     "data": {
      "text/plain": [
       "Text(0.5, 1.0, 'Количество денег на отрасль')"
      ]
     },
     "execution_count": 150,
     "metadata": {},
     "output_type": "execute_result"
    },
    {
     "data": {
      "image/png": "[encoded data removed]",
      "text/plain": [
       "<Figure size 1440x720 with 1 Axes>"
      ]
     },
     "metadata": {
      "needs_background": "light"
     },
     "output_type": "display_data"
    }
   ],
   "source": [
    "h = plt.figure(figsize=(20,10))\n",
    "plt.bar(an_inc_mean['Отрасль'], an_inc_mean['Annual Income, mln RUR'])\n",
    "plt.title('Количество денег на отрасль')"
   ]
  },
  {
   "cell_type": "code",
   "execution_count": 151,
   "metadata": {},
   "outputs": [
    {
     "data": {
      "text/html": [
       "<div>\n",
       "<style scoped>\n",
       "    .dataframe tbody tr th:only-of-type {\n",
       "        vertical-align: middle;\n",
       "    }\n",
       "\n",
       "    .dataframe tbody tr th {\n",
       "        vertical-align: top;\n",
       "    }\n",
       "\n",
       "    .dataframe thead th {\n",
       "        text-align: right;\n",
       "    }\n",
       "</style>\n",
       "<table border=\"1\" class=\"dataframe\">\n",
       "  <thead>\n",
       "    <tr style=\"text-align: right;\">\n",
       "      <th></th>\n",
       "      <th>Номер</th>\n",
       "      <th>Annual Income, mln RUR</th>\n",
       "    </tr>\n",
       "  </thead>\n",
       "  <tbody>\n",
       "    <tr>\n",
       "      <th>count</th>\n",
       "      <td>9.000000</td>\n",
       "      <td>9.000000</td>\n",
       "    </tr>\n",
       "    <tr>\n",
       "      <th>mean</th>\n",
       "      <td>72.194472</td>\n",
       "      <td>12.237816</td>\n",
       "    </tr>\n",
       "    <tr>\n",
       "      <th>std</th>\n",
       "      <td>8.982569</td>\n",
       "      <td>0.814944</td>\n",
       "    </tr>\n",
       "    <tr>\n",
       "      <th>min</th>\n",
       "      <td>58.833333</td>\n",
       "      <td>10.714286</td>\n",
       "    </tr>\n",
       "    <tr>\n",
       "      <th>25%</th>\n",
       "      <td>66.285714</td>\n",
       "      <td>11.857143</td>\n",
       "    </tr>\n",
       "    <tr>\n",
       "      <th>50%</th>\n",
       "      <td>70.777778</td>\n",
       "      <td>12.421053</td>\n",
       "    </tr>\n",
       "    <tr>\n",
       "      <th>75%</th>\n",
       "      <td>78.526316</td>\n",
       "      <td>12.866667</td>\n",
       "    </tr>\n",
       "    <tr>\n",
       "      <th>max</th>\n",
       "      <td>86.866667</td>\n",
       "      <td>13.200000</td>\n",
       "    </tr>\n",
       "  </tbody>\n",
       "</table>\n",
       "</div>"
      ],
      "text/plain": [
       "           Номер  Annual Income, mln RUR\n",
       "count   9.000000                9.000000\n",
       "mean   72.194472               12.237816\n",
       "std     8.982569                0.814944\n",
       "min    58.833333               10.714286\n",
       "25%    66.285714               11.857143\n",
       "50%    70.777778               12.421053\n",
       "75%    78.526316               12.866667\n",
       "max    86.866667               13.200000"
      ]
     },
     "execution_count": 151,
     "metadata": {},
     "output_type": "execute_result"
    }
   ],
   "source": [
    "an_inc_mean.describe()"
   ]
  },
  {
   "cell_type": "code",
   "execution_count": null,
   "metadata": {},
   "outputs": [],
   "source": []
  }
 ],
 "metadata": {
  "kernelspec": {
   "display_name": "Python 3",
   "language": "python",
   "name": "python3"
  },
  "language_info": {
   "codemirror_mode": {
    "name": "ipython",
    "version": 3
   },
   "file_extension": ".py",
   "mimetype": "text/x-python",
   "name": "python",
   "nbconvert_exporter": "python",
   "pygments_lexer": "ipython3",
   "version": "3.7.4"
  }
 },
 "nbformat": 4,
 "nbformat_minor": 2
}
